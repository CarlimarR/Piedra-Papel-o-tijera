{
 "cells": [
  {
   "cell_type": "markdown",
   "metadata": {},
   "source": []
  },
  {
   "cell_type": "markdown",
   "metadata": {},
   "source": [
    "###### fundamentos de python\n",
    "* Variables\n",
    "* Operadores Matematicos\n",
    "* Operadores Logicos\n",
    "* Operadores de comparacion\n",
    "* Estructuras de Control\n",
    "    - condicionales\n",
    "    - Ciclo finito: for\n",
    "    - Ciclo finito: while\n",
    "    - Funciones\n",
    "* Estructuras de Datos\n",
    "    - cadenas de caracteres: string\n",
    "    - numeros enteros\n",
    "    - numeros decimales (flotantes)\n",
    "    - listas\n",
    "    - diccionarios\n",
    "    - tuplas\n"
   ]
  },
  {
   "cell_type": "code",
   "execution_count": 35,
   "metadata": {},
   "outputs": [
    {
     "name": "stdout",
     "output_type": "stream",
     "text": [
      "Epale mundo\n"
     ]
    }
   ],
   "source": [
    "print(\"Epale mundo\")"
   ]
  },
  {
   "cell_type": "code",
   "execution_count": 5,
   "metadata": {},
   "outputs": [],
   "source": [
    "# Variable\n",
    "name = \"Juan\"\n",
    "last_name = \"Perez\""
   ]
  },
  {
   "cell_type": "code",
   "execution_count": null,
   "metadata": {},
   "outputs": [],
   "source": [
    "# -MALA practica-\n",
    "\n",
    "LastName = \"Gomez\"\n",
    "Name = \"Ana\"\n",
    "Name=\"Luis\""
   ]
  },
  {
   "cell_type": "code",
   "execution_count": 10,
   "metadata": {},
   "outputs": [
    {
     "name": "stdout",
     "output_type": "stream",
     "text": [
      "gomez\n"
     ]
    }
   ],
   "source": [
    "last_name = \"gomez\"\n",
    "print(last_name)"
   ]
  },
  {
   "cell_type": "code",
   "execution_count": 11,
   "metadata": {},
   "outputs": [],
   "source": [
    "NAME = \"Juan\"\n",
    "name = \"Pedro\""
   ]
  },
  {
   "cell_type": "code",
   "execution_count": null,
   "metadata": {},
   "outputs": [],
   "source": [
    "# Operadores Matematicos\n",
    "number_1 = 10\n",
    "number_2 = 5\n"
   ]
  },
  {
   "cell_type": "code",
   "execution_count": 13,
   "metadata": {},
   "outputs": [],
   "source": [
    "# Suma\n",
    "result = number_1 + number_2\n",
    "\n"
   ]
  },
  {
   "cell_type": "code",
   "execution_count": 14,
   "metadata": {},
   "outputs": [
    {
     "name": "stdout",
     "output_type": "stream",
     "text": [
      "15\n"
     ]
    }
   ],
   "source": [
    "print(result)"
   ]
  },
  {
   "cell_type": "code",
   "execution_count": 15,
   "metadata": {},
   "outputs": [],
   "source": [
    "# resta\n",
    "result_sub = number_1 - number_2"
   ]
  },
  {
   "cell_type": "code",
   "execution_count": null,
   "metadata": {},
   "outputs": [],
   "source": [
    "# Multiplicacion\n",
    "result_mult = number_1 * number_2\n",
    "\n",
    "# Division\n",
    "result_div = number_1 / number_2"
   ]
  },
  {
   "cell_type": "code",
   "execution_count": 17,
   "metadata": {},
   "outputs": [
    {
     "name": "stdout",
     "output_type": "stream",
     "text": [
      "5\n"
     ]
    }
   ],
   "source": [
    "print(result_sub)"
   ]
  },
  {
   "cell_type": "code",
   "execution_count": 18,
   "metadata": {},
   "outputs": [
    {
     "data": {
      "text/plain": [
       "int"
      ]
     },
     "execution_count": 18,
     "metadata": {},
     "output_type": "execute_result"
    }
   ],
   "source": [
    "type(result_sub)"
   ]
  },
  {
   "cell_type": "code",
   "execution_count": 19,
   "metadata": {},
   "outputs": [
    {
     "data": {
      "text/plain": [
       "str"
      ]
     },
     "execution_count": 19,
     "metadata": {},
     "output_type": "execute_result"
    }
   ],
   "source": [
    "type(last_name)"
   ]
  },
  {
   "cell_type": "code",
   "execution_count": 20,
   "metadata": {},
   "outputs": [
    {
     "name": "stdout",
     "output_type": "stream",
     "text": [
      "gomez\n"
     ]
    }
   ],
   "source": [
    "print(last_name)"
   ]
  },
  {
   "cell_type": "code",
   "execution_count": 21,
   "metadata": {},
   "outputs": [
    {
     "data": {
      "text/plain": [
       "8"
      ]
     },
     "execution_count": 21,
     "metadata": {},
     "output_type": "execute_result"
    }
   ],
   "source": [
    "4+4"
   ]
  },
  {
   "cell_type": "code",
   "execution_count": 23,
   "metadata": {},
   "outputs": [],
   "source": [
    "# OPERADORES DE COMPARACION\n",
    "\n",
    "# == igual\n",
    "# != diferente\n",
    "# > mayor que\n",
    "# < menor quee\n",
    "# >= mayor o igual que \n",
    "# <= menor igual que\n"
   ]
  },
  {
   "cell_type": "code",
   "execution_count": 24,
   "metadata": {},
   "outputs": [],
   "source": [
    "# OPERADORES BOOLEANOS\n",
    "\n",
    "# True\n",
    "# False\n"
   ]
  },
  {
   "cell_type": "code",
   "execution_count": 25,
   "metadata": {},
   "outputs": [
    {
     "data": {
      "text/plain": [
       "True"
      ]
     },
     "execution_count": 25,
     "metadata": {},
     "output_type": "execute_result"
    }
   ],
   "source": [
    "# Ejemplos\n",
    "4 == 4"
   ]
  },
  {
   "cell_type": "code",
   "execution_count": 2,
   "metadata": {},
   "outputs": [
    {
     "ename": "NameError",
     "evalue": "name 'number_1' is not defined",
     "output_type": "error",
     "traceback": [
      "\u001b[1;31m---------------------------------------------------------------------------\u001b[0m",
      "\u001b[1;31mNameError\u001b[0m                                 Traceback (most recent call last)",
      "Cell \u001b[1;32mIn[2], line 1\u001b[0m\n\u001b[1;32m----> 1\u001b[0m \u001b[43mnumber_1\u001b[49m \u001b[38;5;241m==\u001b[39m number_2\n",
      "\u001b[1;31mNameError\u001b[0m: name 'number_1' is not defined"
     ]
    }
   ],
   "source": [
    "number_1 == number_2"
   ]
  },
  {
   "cell_type": "code",
   "execution_count": 28,
   "metadata": {},
   "outputs": [
    {
     "data": {
      "text/plain": [
       "True"
      ]
     },
     "execution_count": 28,
     "metadata": {},
     "output_type": "execute_result"
    }
   ],
   "source": [
    "number_1 > number_2"
   ]
  },
  {
   "cell_type": "code",
   "execution_count": 29,
   "metadata": {},
   "outputs": [
    {
     "data": {
      "text/plain": [
       "False"
      ]
     },
     "execution_count": 29,
     "metadata": {},
     "output_type": "execute_result"
    }
   ],
   "source": [
    "number_1 <= number_2"
   ]
  },
  {
   "cell_type": "code",
   "execution_count": null,
   "metadata": {},
   "outputs": [
    {
     "name": "stdout",
     "output_type": "stream",
     "text": [
      "number_1 es mayor que number_2\n"
     ]
    }
   ],
   "source": [
    "# CONDICIONALES\n",
    "\n",
    "# (Las condiciones solo funcionan si la salida es verdadera)\n",
    "\n",
    "if number_1 > number_2:\n",
    "    print(\"number_1 es mayor que number_2\")\n",
    "\n"
   ]
  },
  {
   "cell_type": "code",
   "execution_count": 33,
   "metadata": {},
   "outputs": [
    {
     "ename": "SyntaxError",
     "evalue": "expected ':' (3356711633.py, line 3)",
     "output_type": "error",
     "traceback": [
      "\u001b[1;36m  Cell \u001b[1;32mIn[33], line 3\u001b[1;36m\u001b[0m\n\u001b[1;33m    if number_1 > number_2\u001b[0m\n\u001b[1;37m                          ^\u001b[0m\n\u001b[1;31mSyntaxError\u001b[0m\u001b[1;31m:\u001b[0m expected ':'\n"
     ]
    }
   ],
   "source": [
    "# la flecha señala el error\n",
    "\n",
    "if number_1 > number_2\n",
    "    print(\"number_1 es mayor que number_2\")\n"
   ]
  },
  {
   "cell_type": "code",
   "execution_count": null,
   "metadata": {},
   "outputs": [
    {
     "name": "stdout",
     "output_type": "stream",
     "text": [
      "number_1 es mayor que number_2\n"
     ]
    }
   ],
   "source": [
    "#condiciones\n",
    "# el else debe tener : al lado\n",
    "\n",
    "\n",
    "if number_1 > number_2:\n",
    "    print(\"number_1 es mayor que number_2\")\n",
    "else:\n",
    "    print(\"numero_1 es menor que number_2\")"
   ]
  },
  {
   "cell_type": "code",
   "execution_count": 41,
   "metadata": {},
   "outputs": [
    {
     "name": "stdout",
     "output_type": "stream",
     "text": [
      "los numeros son iguales\n"
     ]
    }
   ],
   "source": [
    "# Condicional\n",
    "\n",
    "number_1 = 20\n",
    "number_2 = 20\n",
    "\n",
    "if number_1 > number_2:\n",
    "    print(\"number_1 es mayor que number_2\")\n",
    "\n",
    "elif number_1 < number_2:\n",
    "    print(\"number_1 es menor que number_2\")\n",
    "\n",
    "else:\n",
    "    print(\"los numeros son iguales\")"
   ]
  },
  {
   "cell_type": "code",
   "execution_count": null,
   "metadata": {},
   "outputs": [
    {
     "name": "stdout",
     "output_type": "stream",
     "text": [
      "number_1 es mayor que number_2 y mayor que 10\n"
     ]
    }
   ],
   "source": [
    "# Condicionales anidados\n",
    "\n",
    "number_1 = 20\n",
    "number_2 = 10\n",
    "\n",
    "if number_1 > number_2:\n",
    "    if number_1 > 10:\n",
    "        print(\"number_1 es mayor que number_2 y mayor que 10\")\n",
    "\n",
    "elif number_1 < number_2:\n",
    "    print(\"number_1 es menor que number_2\")\n",
    "\n",
    "else:\n",
    "    print(\"los numeros son iguales\")"
   ]
  },
  {
   "cell_type": "code",
   "execution_count": null,
   "metadata": {},
   "outputs": [
    {
     "name": "stdout",
     "output_type": "stream",
     "text": [
      "number_1 es mayor que number_2 y mayor que 10\n"
     ]
    }
   ],
   "source": [
    "# OPERADORES LOGICOS \n",
    "#and\n",
    "#or\n",
    "#not\n",
    "\n",
    "# Condicional\n",
    "\n",
    "number_1 = 20\n",
    "number_2 = 5\n",
    "\n",
    "if (number_1 > number_2) and (number_1 > 10):\n",
    "    print(\"number_1 es mayor que number_2 y mayor que 10\")\n",
    "\n",
    "elif number_1 < number_2:\n",
    "    print(\"number_1 es menor que number_2\")\n",
    "\n",
    "else:\n",
    "    print(\"los numeros son iguales\")"
   ]
  },
  {
   "cell_type": "code",
   "execution_count": 46,
   "metadata": {},
   "outputs": [
    {
     "name": "stdout",
     "output_type": "stream",
     "text": [
      "\"20\" es mayor que \"5\" y mayor que 10\n"
     ]
    }
   ],
   "source": [
    "# OPERADORES LOGICOS \n",
    "#and\n",
    "#or\n",
    "#not\n",
    "\n",
    "# Condicional\n",
    "\n",
    "number_1 = 20\n",
    "number_2 = 5\n",
    "\n",
    "if (number_1 > number_2) and (number_1 > 10):\n",
    "    print(f'\"{number_1}\" es mayor que \"{number_2}\" y mayor que 10')\n",
    "\n",
    "elif number_1 < number_2:\n",
    "    print(\"number_1 es menor que number_2\")\n",
    "\n",
    "else:\n",
    "    print(\"los numeros son iguales\")"
   ]
  },
  {
   "cell_type": "code",
   "execution_count": null,
   "metadata": {},
   "outputs": [],
   "source": []
  },
  {
   "cell_type": "code",
   "execution_count": null,
   "metadata": {},
   "outputs": [],
   "source": [
    "\n",
    "# Condicional\n",
    "jugador_1 = input(\"jugador 1\")\n",
    "opcion_jugador_1 = input(\"piedra, papel o tijera\")\n",
    "\n",
    "jugador_2 = input(\"Jugador 2\")\n",
    "opcion_jugador_2 = input(\"piedra, papel o tijera\")\n",
    "\n",
    "print(jugador_1)\n",
    "print(jugador_2)\n",
    "\n",
    "\n",
    "# Opciones de juego\n",
    "\n",
    "if (opcion_jugador_1 == \"piedra\") and (opcion_jugador_2 == \"tijera\"):\n",
    "    print(\"jugador 1 gana con piedra\")     #piedra vs tijera = gana piedra \n",
    "\n",
    "elif (opcion_jugador_1 == \"papel\") and (opcion_jugador_2 == \"piedra\"):\n",
    "    print(\"jugador 1 gana con papel\")     #papel vs piedra = gana papel\n",
    "\n",
    "elif (opcion_jugador_1) == \"tijera\" and (opcion_jugador_2) == \"papel\":\n",
    "    print(\"jugador 1 gana con tijera\")     #tijera vs papel = gana tijera\n",
    "\n",
    "elif (opcion_jugador_1) == (opcion_jugador_2):\n",
    "    print(\"empate\")             # Opciones iguales = empate\n",
    "\n",
    "\n",
    "\n"
   ]
  },
  {
   "cell_type": "code",
   "execution_count": null,
   "metadata": {},
   "outputs": [],
   "source": [
    "# Condicional\n",
    "jugador_1 = input(\"jugador 1: \")\n",
    "opcion_jugador_1 = input(\"piedra, papel o tijera: \")\n",
    "\n",
    "jugador_2 = input(\"Jugador 2: \")\n",
    "opcion_jugador_2 = input(\"piedra, papel o tijera: \")\n",
    "\n",
    "print(jugador_1)\n",
    "print(jugador_2)\n",
    "\n",
    "\n",
    "# OPCIONES DE JUEGO\n",
    "if(opcion_jugador_1 != \"piedra\" and opcion_jugador_1 != \"papel\" and opcion_jugador_1 != \"tijera\") or (opcion_jugador_2 != \"piedra\" and opcion_jugador_2 != \"papel\" and opcion_jugador_2 != \"tijera\"):\n",
    "    print(\"opcion no valida\")\n",
    "\n",
    "else:\n",
    "# opciones donde gana el jugador 1\n",
    "    if (opcion_jugador_1 == \"piedra\") and (opcion_jugador_2 == \"tijera\"):\n",
    "        print(\"jugador 1 gana con piedra\")     #piedra vs tijera = gana piedra \n",
    "\n",
    "    elif (opcion_jugador_1 == \"papel\") and (opcion_jugador_2 == \"piedra\"):\n",
    "        print(\"jugador 1 gana con papel\")     #papel vs piedra = gana papel\n",
    "\n",
    "    elif (opcion_jugador_1) == \"tijera\" and (opcion_jugador_2) == \"papel\":\n",
    "        print(\"jugador 1 gana con tijera\")     #tijera vs papel = gana tijera\n",
    "\n",
    "    # opciones donde gana el jugardor 2\n",
    "\n",
    "    elif (opcion_jugador_2 == \"piedra\") and (opcion_jugador_1 == \"tijera\"):\n",
    "        print(\"jugador 2 gana con piedra\")     #piedra vs tijera = gana piedra \n",
    "\n",
    "    elif (opcion_jugador_2 == \"papel\") and (opcion_jugador_1 == \"piedra\"):\n",
    "        print(\"jugador 2 gana con papel\")     #papel vs piedra = gana papel\n",
    "\n",
    "    elif (opcion_jugador_2) == \"tijera\" and (opcion_jugador_1) == \"papel\":\n",
    "        print(\"jugador 2 gana con tijera\")     #tijera vs papel = gana tijera\n",
    "\n",
    "    # opcion de empate\n",
    "\n",
    "    elif (opcion_jugador_1) == (opcion_jugador_2):\n",
    "        print(\"empate\")             # Opciones iguales = empate\n",
    "\n",
    "    else:\n",
    "        print(\"opcion no valida\")\n"
   ]
  },
  {
   "cell_type": "markdown",
   "metadata": {},
   "source": [
    "### Estructuras de datos"
   ]
  },
  {
   "cell_type": "code",
   "execution_count": null,
   "metadata": {},
   "outputs": [],
   "source": [
    "# int\n",
    "# float \n",
    "# str\n",
    "# list\n",
    "# tuple\n",
    "              # 0       1       2       3\n",
    "              #-4      -3      -2      -1\n",
    "list_names = [\"Juan\", \"Pedro\", \"Ana\", \"Luis\"]\n",
    "# cada lista debe ser deparada por comas ,,,, y se puede acceder a cada elemento de la lista por su indice\n",
    "\n"
   ]
  },
  {
   "cell_type": "code",
   "execution_count": 9,
   "metadata": {},
   "outputs": [
    {
     "data": {
      "text/plain": [
       "'Pedro'"
      ]
     },
     "execution_count": 9,
     "metadata": {},
     "output_type": "execute_result"
    }
   ],
   "source": [
    "list_names [1]"
   ]
  },
  {
   "cell_type": "code",
   "execution_count": 10,
   "metadata": {},
   "outputs": [
    {
     "data": {
      "text/plain": [
       "['Juan', 'Pedro']"
      ]
     },
     "execution_count": 10,
     "metadata": {},
     "output_type": "execute_result"
    }
   ],
   "source": [
    "# slice de listas\n",
    "\n",
    "#[start:stop:step]\n",
    "list_names[:2]"
   ]
  },
  {
   "cell_type": "code",
   "execution_count": 11,
   "metadata": {},
   "outputs": [
    {
     "data": {
      "text/plain": [
       "['Pedro', 'Ana']"
      ]
     },
     "execution_count": 11,
     "metadata": {},
     "output_type": "execute_result"
    }
   ],
   "source": [
    "list_names[1:3]"
   ]
  },
  {
   "cell_type": "code",
   "execution_count": 12,
   "metadata": {},
   "outputs": [],
   "source": [
    "# list methods de python\n",
    "# append\n",
    "list_names.append(\"Carlos\")"
   ]
  },
  {
   "cell_type": "code",
   "execution_count": 13,
   "metadata": {},
   "outputs": [
    {
     "data": {
      "text/plain": [
       "['Juan', 'Pedro', 'Ana', 'Luis', 'Carlos']"
      ]
     },
     "execution_count": 13,
     "metadata": {},
     "output_type": "execute_result"
    }
   ],
   "source": [
    "list_names"
   ]
  },
  {
   "cell_type": "code",
   "execution_count": 14,
   "metadata": {},
   "outputs": [
    {
     "data": {
      "text/plain": [
       "'Juan'"
      ]
     },
     "execution_count": 14,
     "metadata": {},
     "output_type": "execute_result"
    }
   ],
   "source": [
    "list_names.pop(0)"
   ]
  },
  {
   "cell_type": "code",
   "execution_count": 15,
   "metadata": {},
   "outputs": [
    {
     "data": {
      "text/plain": [
       "4"
      ]
     },
     "execution_count": 15,
     "metadata": {},
     "output_type": "execute_result"
    }
   ],
   "source": [
    "# longitud de la lista\n",
    "\n",
    "len(list_names)\n"
   ]
  },
  {
   "cell_type": "code",
   "execution_count": null,
   "metadata": {},
   "outputs": [
    {
     "name": "stdout",
     "output_type": "stream",
     "text": [
      "Pedro\n",
      "Ana\n",
      "Luis\n",
      "Carlos\n"
     ]
    }
   ],
   "source": [
    "# ciclos for\n",
    "\n",
    "for name in list_names:\n",
    "    print(name)\n",
    "    "
   ]
  },
  {
   "cell_type": "code",
   "execution_count": null,
   "metadata": {},
   "outputs": [
    {
     "name": "stdout",
     "output_type": "stream",
     "text": [
      "Ana esta aqui\n"
     ]
    }
   ],
   "source": [
    "# ciclos for\n",
    "\n",
    "for name in list_names:\n",
    "    # buscar el nombre ana en la lista en minuscula\n",
    "    if name.lower() == \"ana\":\n",
    "        print(\"Ana esta aqui\")\n",
    "        break\n",
    "    \n",
    "    #ana no esta en la lista\n",
    "    else:\n",
    "        print(\"Ana no esta en la lista\")"
   ]
  },
  {
   "cell_type": "code",
   "execution_count": null,
   "metadata": {},
   "outputs": [],
   "source": [
    "# Diciconarios\n",
    "\n",
    "# key : value\n",
    "# clave : valor\n",
    "dict_names = {\"name\": \"Juan\", \"last_name\": \"Perez\", \"age\": [25,42,12],}  "
   ]
  },
  {
   "cell_type": "code",
   "execution_count": null,
   "metadata": {},
   "outputs": [],
   "source": []
  },
  {
   "cell_type": "markdown",
   "metadata": {},
   "source": [
    "### FUNCIONES"
   ]
  },
  {
   "cell_type": "code",
   "execution_count": null,
   "metadata": {},
   "outputs": [],
   "source": [
    "# funcion de saludo\n",
    "\n",
    "def saludo():\n",
    "    print(\"Hola mundo\")\n",
    "\n"
   ]
  },
  {
   "cell_type": "code",
   "execution_count": 20,
   "metadata": {},
   "outputs": [
    {
     "name": "stdout",
     "output_type": "stream",
     "text": [
      "Hola mundo\n"
     ]
    }
   ],
   "source": [
    "saludo()"
   ]
  },
  {
   "cell_type": "code",
   "execution_count": 21,
   "metadata": {},
   "outputs": [],
   "source": [
    "# funcion de saludo con retorno\n",
    "\n",
    "def saludo2():\n",
    "    return \"Hola mundo\"\n"
   ]
  },
  {
   "cell_type": "code",
   "execution_count": 23,
   "metadata": {},
   "outputs": [
    {
     "data": {
      "text/plain": [
       "'Hola mundo'"
      ]
     },
     "execution_count": 23,
     "metadata": {},
     "output_type": "execute_result"
    }
   ],
   "source": [
    "saludo2()"
   ]
  },
  {
   "cell_type": "code",
   "execution_count": 24,
   "metadata": {},
   "outputs": [],
   "source": [
    "# funcion que salude con retorno para un nombre\n",
    "def saludo3(name):\n",
    "    return f\"Hola {name}\"   "
   ]
  },
  {
   "cell_type": "code",
   "execution_count": 25,
   "metadata": {},
   "outputs": [
    {
     "data": {
      "text/plain": [
       "'Hola Juan'"
      ]
     },
     "execution_count": 25,
     "metadata": {},
     "output_type": "execute_result"
    }
   ],
   "source": [
    "saludo3(\"Juan\")"
   ]
  },
  {
   "cell_type": "code",
   "execution_count": 26,
   "metadata": {},
   "outputs": [
    {
     "ename": "TypeError",
     "evalue": "saludo3() missing 1 required positional argument: 'name'",
     "output_type": "error",
     "traceback": [
      "\u001b[1;31m---------------------------------------------------------------------------\u001b[0m",
      "\u001b[1;31mTypeError\u001b[0m                                 Traceback (most recent call last)",
      "Cell \u001b[1;32mIn[26], line 1\u001b[0m\n\u001b[1;32m----> 1\u001b[0m \u001b[43msaludo3\u001b[49m\u001b[43m(\u001b[49m\u001b[43m)\u001b[49m\n",
      "\u001b[1;31mTypeError\u001b[0m: saludo3() missing 1 required positional argument: 'name'"
     ]
    }
   ],
   "source": [
    "saludo3()"
   ]
  },
  {
   "cell_type": "code",
   "execution_count": null,
   "metadata": {},
   "outputs": [],
   "source": [
    "saludo3(\"Pedro\")"
   ]
  },
  {
   "cell_type": "code",
   "execution_count": 27,
   "metadata": {},
   "outputs": [],
   "source": [
    "# funcion que salude con retorno para un nombre con un valor por defecto\n",
    "def saludo3(name = \"Fulano de tal\"):\n",
    "    return f\"Hola {name}\"   "
   ]
  },
  {
   "cell_type": "code",
   "execution_count": 28,
   "metadata": {},
   "outputs": [
    {
     "data": {
      "text/plain": [
       "'Hola Fulano de tal'"
      ]
     },
     "execution_count": 28,
     "metadata": {},
     "output_type": "execute_result"
    }
   ],
   "source": [
    "saludo3()"
   ]
  },
  {
   "cell_type": "code",
   "execution_count": 30,
   "metadata": {},
   "outputs": [],
   "source": [
    "# funcion que salude con retorno para nombre y apellido con valores por defecto\n",
    "def saludo4(name = \"Fulano\", last_name = \"De Tal\"):\n",
    "    return f\"Hola {name} {last_name}\"\n"
   ]
  },
  {
   "cell_type": "code",
   "execution_count": 31,
   "metadata": {},
   "outputs": [
    {
     "data": {
      "text/plain": [
       "'Hola Maria Antonia'"
      ]
     },
     "execution_count": 31,
     "metadata": {},
     "output_type": "execute_result"
    }
   ],
   "source": [
    "saludo4(\"Maria\", \"Antonia\")"
   ]
  },
  {
   "cell_type": "code",
   "execution_count": 32,
   "metadata": {},
   "outputs": [
    {
     "data": {
      "text/plain": [
       "'Hola Antonia Maria'"
      ]
     },
     "execution_count": 32,
     "metadata": {},
     "output_type": "execute_result"
    }
   ],
   "source": [
    "saludo4(last_name=\"Maria\", name=\"Antonia\")"
   ]
  },
  {
   "cell_type": "code",
   "execution_count": 35,
   "metadata": {},
   "outputs": [],
   "source": [
    "# funcion documentada que salude con retorno para nombre y apellido con valores por defecto\n",
    "def saludo5(name = \"Fulano\", last_name = \"De Tal\"):\n",
    "    \"\"\"Esta funcion saluda a una persona con su nombre y apellido, y retorna un saludo con ambos valores\n",
    "    name: str\n",
    "    last_name: str\n",
    "    return: str\n",
    "    return f\"hola {name} {last_name}\"\n",
    "    \"\"\"\n",
    "\n",
    "    return f\"Hola {name} {last_name}\"\n"
   ]
  },
  {
   "cell_type": "code",
   "execution_count": 36,
   "metadata": {},
   "outputs": [
    {
     "data": {
      "text/plain": [
       "'Hola Fulano De Tal'"
      ]
     },
     "execution_count": 36,
     "metadata": {},
     "output_type": "execute_result"
    }
   ],
   "source": [
    "saludo5()"
   ]
  },
  {
   "cell_type": "code",
   "execution_count": null,
   "metadata": {},
   "outputs": [],
   "source": []
  }
 ],
 "metadata": {
  "kernelspec": {
   "display_name": "Python 3",
   "language": "python",
   "name": "python3"
  },
  "language_info": {
   "codemirror_mode": {
    "name": "ipython",
    "version": 3
   },
   "file_extension": ".py",
   "mimetype": "text/x-python",
   "name": "python",
   "nbconvert_exporter": "python",
   "pygments_lexer": "ipython3",
   "version": "3.11.9"
  }
 },
 "nbformat": 4,
 "nbformat_minor": 2
}
